{
 "cells": [
  {
   "cell_type": "markdown",
   "metadata": {},
   "source": [
    "Template Objects in Python\n",
    "\n",
    "Introducting Template and Context via Direct Usage"
   ]
  },
  {
   "cell_type": "code",
   "execution_count": 20,
   "metadata": {},
   "outputs": [],
   "source": [
    "import django\n",
    "django.setup()\n",
    "\n",
    "from django.template import Context, Template"
   ]
  },
  {
   "cell_type": "code",
   "execution_count": 21,
   "metadata": {},
   "outputs": [],
   "source": [
    "template = Template(\"{{ superhero }} is the very best superhero.\")"
   ]
  },
  {
   "cell_type": "code",
   "execution_count": 22,
   "metadata": {},
   "outputs": [
    {
     "data": {
      "text/plain": [
       "django.template.base.Template"
      ]
     },
     "execution_count": 22,
     "metadata": {},
     "output_type": "execute_result"
    }
   ],
   "source": [
    "type(template)"
   ]
  },
  {
   "cell_type": "code",
   "execution_count": 23,
   "metadata": {},
   "outputs": [
    {
     "data": {
      "text/plain": [
       "'batman is the very best superhero.'"
      ]
     },
     "execution_count": 23,
     "metadata": {},
     "output_type": "execute_result"
    }
   ],
   "source": [
    "context = Context({\"superhero\": \"batman\"})\n",
    "template.render(context)"
   ]
  },
  {
   "cell_type": "code",
   "execution_count": 24,
   "metadata": {},
   "outputs": [
    {
     "data": {
      "text/plain": [
       "'Wonder Woman is the very best superhero.'"
      ]
     },
     "execution_count": 24,
     "metadata": {},
     "output_type": "execute_result"
    }
   ],
   "source": [
    "# similar to f-strings in Python 3.6\n",
    "superhero = \"wonder woman\"\n",
    "# note the title method\n",
    "f\"{superhero.title()} is the very best superhero.\""
   ]
  },
  {
   "cell_type": "code",
   "execution_count": 25,
   "metadata": {},
   "outputs": [],
   "source": [
    "# note the title filter\n",
    "template = Template(\"{{ superhero|title }} is the very best superhero.\")"
   ]
  },
  {
   "cell_type": "markdown",
   "metadata": {},
   "source": [
    "See Django's documentation for a full list of all the template filters available."
   ]
  },
  {
   "cell_type": "code",
   "execution_count": 26,
   "metadata": {},
   "outputs": [
    {
     "data": {
      "text/plain": [
       "'Batman is the very best superhero.'"
      ]
     },
     "execution_count": 26,
     "metadata": {},
     "output_type": "execute_result"
    }
   ],
   "source": [
    "template.render(context)"
   ]
  },
  {
   "cell_type": "code",
   "execution_count": 27,
   "metadata": {},
   "outputs": [
    {
     "name": "stdout",
     "output_type": "stream",
     "text": [
      "Ouch!\n",
      "she said dutifully\n",
      "as she jumped into her convertible boat\n",
      "and drove off with her pineapple.\n",
      "\n"
     ]
    }
   ],
   "source": [
    "# allows for keys and attributes\n",
    "template = Template(\n",
    "    \"{{ ml.exclaim }}!\\n\"\n",
    "    \"she said {{ ml.adverb }}\\n\"\n",
    "    \"as she jumped into her convertible {{ ml.noun1 }}\\n\"\n",
    "    \"and drove off with her {{ ml.noun2 }}.\\n\"\n",
    ")\n",
    "mad_lib = {\n",
    "    \"exclaim\": \"Ouch\",\n",
    "    \"adverb\": \"dutifully\",\n",
    "    \"noun1\": \"boat\",\n",
    "    \"noun2\": \"pineapple\",\n",
    "}\n",
    "context = Context({\"ml\": mad_lib})\n",
    "print(template.render(context))"
   ]
  },
  {
   "cell_type": "markdown",
   "metadata": {},
   "source": [
    "Loading Templates from Disk"
   ]
  },
  {
   "cell_type": "code",
   "execution_count": 28,
   "metadata": {},
   "outputs": [],
   "source": [
    "from django.template import loader"
   ]
  },
  {
   "cell_type": "code",
   "execution_count": 29,
   "metadata": {},
   "outputs": [
    {
     "ename": "TemplateDoesNotExist",
     "evalue": "tag/list.html",
     "output_type": "error",
     "traceback": [
      "\u001b[0;31m---------------------------------------------------------------------------\u001b[0m",
      "\u001b[0;31mTemplateDoesNotExist\u001b[0m                      Traceback (most recent call last)",
      "\u001b[0;32m<ipython-input-29-7c952dd46c2f>\u001b[0m in \u001b[0;36m<module>\u001b[0;34m()\u001b[0m\n\u001b[0;32m----> 1\u001b[0;31m \u001b[0mtemplate\u001b[0m \u001b[0;34m=\u001b[0m \u001b[0mloader\u001b[0m\u001b[0;34m.\u001b[0m\u001b[0mget_template\u001b[0m\u001b[0;34m(\u001b[0m\u001b[0;34m'tag/list.html'\u001b[0m\u001b[0;34m)\u001b[0m\u001b[0;34m\u001b[0m\u001b[0;34m\u001b[0m\u001b[0m\n\u001b[0m",
      "\u001b[0;32m/usr/local/lib/python3.7/site-packages/django/template/loader.py\u001b[0m in \u001b[0;36mget_template\u001b[0;34m(template_name, using)\u001b[0m\n\u001b[1;32m     17\u001b[0m             \u001b[0mchain\u001b[0m\u001b[0;34m.\u001b[0m\u001b[0mappend\u001b[0m\u001b[0;34m(\u001b[0m\u001b[0me\u001b[0m\u001b[0;34m)\u001b[0m\u001b[0;34m\u001b[0m\u001b[0;34m\u001b[0m\u001b[0m\n\u001b[1;32m     18\u001b[0m \u001b[0;34m\u001b[0m\u001b[0m\n\u001b[0;32m---> 19\u001b[0;31m     \u001b[0;32mraise\u001b[0m \u001b[0mTemplateDoesNotExist\u001b[0m\u001b[0;34m(\u001b[0m\u001b[0mtemplate_name\u001b[0m\u001b[0;34m,\u001b[0m \u001b[0mchain\u001b[0m\u001b[0;34m=\u001b[0m\u001b[0mchain\u001b[0m\u001b[0;34m)\u001b[0m\u001b[0;34m\u001b[0m\u001b[0;34m\u001b[0m\u001b[0m\n\u001b[0m\u001b[1;32m     20\u001b[0m \u001b[0;34m\u001b[0m\u001b[0m\n\u001b[1;32m     21\u001b[0m \u001b[0;34m\u001b[0m\u001b[0m\n",
      "\u001b[0;31mTemplateDoesNotExist\u001b[0m: tag/list.html"
     ]
    }
   ],
   "source": [
    "template = loader.get_template('tag/list.html')"
   ]
  },
  {
   "cell_type": "code",
   "execution_count": null,
   "metadata": {},
   "outputs": [],
   "source": [
    "type(template)  # slightly different type!\n",
    "# templates is section before were django.template.base.Template"
   ]
  },
  {
   "cell_type": "code",
   "execution_count": null,
   "metadata": {},
   "outputs": [],
   "source": [
    "best_list = [\n",
    "    {'name': 'Pirates'},\n",
    "    {'name': 'Ninjas'},\n",
    "    {'name': 'Cowboys'},\n",
    "]\n",
    "context = {'tag_list': best_list} # a plain Python dict!\n",
    "# as of Django 1.10, passing a Context instance is not longer supported\n",
    "print(template.render(context))"
   ]
  }
 ],
 "metadata": {
  "kernelspec": {
   "display_name": "Python 3",
   "language": "python",
   "name": "python3"
  },
  "language_info": {
   "codemirror_mode": {
    "name": "ipython",
    "version": 3
   },
   "file_extension": ".py",
   "mimetype": "text/x-python",
   "name": "python",
   "nbconvert_exporter": "python",
   "pygments_lexer": "ipython3",
   "version": "3.7.1"
  }
 },
 "nbformat": 4,
 "nbformat_minor": 4
}
