{
 "cells": [
  {
   "cell_type": "code",
   "execution_count": 1,
   "metadata": {},
   "outputs": [],
   "source": [
    "import django \n",
    "django.setup()\n",
    "\n",
    "from datetime import date\n",
    "from pprint import pprint\n",
    "\n",
    "from django.test import RequestFactory\n",
    "\n",
    "from organizer.models import Startup, Tag\n",
    "from organizer.serializers import StartupSerializer"
   ]
  },
  {
   "cell_type": "code",
   "execution_count": 2,
   "metadata": {},
   "outputs": [
    {
     "data": {
      "text/plain": [
       "(0, {})"
      ]
     },
     "execution_count": 2,
     "metadata": {},
     "output_type": "execute_result"
    }
   ],
   "source": [
    "# ensure we have a clean state\n",
    "Tag.objects.filter(name__endswith=' tag').delete()\n",
    "Startup.objects.filter(slug=\"jambon-software-llc\").delete()"
   ]
  },
  {
   "cell_type": "code",
   "execution_count": 3,
   "metadata": {},
   "outputs": [],
   "source": [
    "s_startup = StartupSerializer(\n",
    "    data=dict(\n",
    "        name=\"JamBon Software LLC\",\n",
    "        slug=\"jambon-software-llc\",\n",
    "        description=\"Consulting & training for web and mobile products.\",\n",
    "        founded_date=date(2013, 1, 13),\n",
    "        contact=\"django@jambonsw.com\",  # not a real email\n",
    "        website=\"https://jambonsw.com\",\n",
    "        tags=[\n",
    "            {\"name\": \"newest tag\"},\n",
    "        ],\n",
    "    ),\n",
    "    context={\"request\": RequestFactory().get(\"/api/v1/startup/\")},\n",
    ")"
   ]
  },
  {
   "cell_type": "code",
   "execution_count": 4,
   "metadata": {},
   "outputs": [
    {
     "name": "stdout",
     "output_type": "stream",
     "text": [
      "4\n",
      "JamBon Software LLC\n",
      "<QuerySet []>\n"
     ]
    }
   ],
   "source": [
    "if s_startup.is_valid():\n",
    "    try:\n",
    "        startup = s_startup.save()\n",
    "    except AssertionError as err:\n",
    "        print(err)\n",
    "    else:\n",
    "        print(startup.pk)\n",
    "        print(startup.name)\n",
    "        print(startup.tags.all())\n",
    "else:\n",
    "    pprint(s_startup.errors)"
   ]
  },
  {
   "cell_type": "code",
   "execution_count": null,
   "metadata": {},
   "outputs": [],
   "source": []
  }
 ],
 "metadata": {
  "kernelspec": {
   "display_name": "Python 3",
   "language": "python",
   "name": "python3"
  },
  "language_info": {
   "codemirror_mode": {
    "name": "ipython",
    "version": 3
   },
   "file_extension": ".py",
   "mimetype": "text/x-python",
   "name": "python",
   "nbconvert_exporter": "python",
   "pygments_lexer": "ipython3",
   "version": "3.7.1"
  }
 },
 "nbformat": 4,
 "nbformat_minor": 4
}
