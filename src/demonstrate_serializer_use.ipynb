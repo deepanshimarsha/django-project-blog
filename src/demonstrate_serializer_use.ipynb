{
 "cells": [
  {
   "cell_type": "markdown",
   "metadata": {},
   "source": [
    "Serializer Demonstration -\n",
    "This Jupyter notebook expects there to be a database available. Remember to run migrations!\n",
    "\n",
    "Additionally, djangorestframework-xml must be installed for this to work correctly. We do not use the package in the rest of the code, so manual installation is required.\n",
    "\n",
    "pip install djangorestframework-xml"
   ]
  },
  {
   "cell_type": "code",
   "execution_count": 3,
   "metadata": {},
   "outputs": [
    {
     "name": "stdout",
     "output_type": "stream",
     "text": [
      "Requirement already satisfied: djangorestframework-xml in /usr/local/lib/python3.7/site-packages (1.3.0)\r\n",
      "Requirement already satisfied: defusedxml>=0.3 in /usr/local/lib/python3.7/site-packages (from djangorestframework-xml) (0.6.0)\r\n"
     ]
    }
   ],
   "source": [
    "!pip install djangorestframework-xml"
   ]
  },
  {
   "cell_type": "code",
   "execution_count": 4,
   "metadata": {},
   "outputs": [
    {
     "name": "stdout",
     "output_type": "stream",
     "text": [
      "Requirement already satisfied: defusedxml in /usr/local/lib/python3.7/site-packages (0.6.0)\r\n"
     ]
    }
   ],
   "source": [
    "!pip install defusedxml"
   ]
  },
  {
   "cell_type": "code",
   "execution_count": 5,
   "metadata": {},
   "outputs": [],
   "source": [
    "import django\n",
    "django.setup()\n",
    "\n",
    "from datetime import date\n",
    "from pprint import pprint\n",
    "from xml.dom.minidom import parseString as xml_parse\n",
    "\n",
    "from rest_framework.renderers import JSONRenderer\n",
    "from rest_framework_xml.renderers import XMLRenderer\n",
    "\n",
    "from organizer.models import NewsLink, Startup, Tag\n",
    "from organizer.serializers import StartupSerializer, TagSerializer, NewsLinkSerializer"
   ]
  },
  {
   "cell_type": "code",
   "execution_count": 7,
   "metadata": {},
   "outputs": [],
   "source": [
    "new_tag = Tag.objects.create(name='django2')"
   ]
  },
  {
   "cell_type": "code",
   "execution_count": 8,
   "metadata": {},
   "outputs": [],
   "source": [
    "s_tag = TagSerializer(new_tag)"
   ]
  },
  {
   "cell_type": "code",
   "execution_count": 9,
   "metadata": {},
   "outputs": [
    {
     "data": {
      "text/plain": [
       "TagSerializer(<Tag: django2>):\n",
       "    id = IntegerField(read_only=True)\n",
       "    name = CharField(max_length=31)\n",
       "    slug = SlugField(allow_blank=True, max_length=31)"
      ]
     },
     "execution_count": 9,
     "metadata": {},
     "output_type": "execute_result"
    }
   ],
   "source": [
    "s_tag"
   ]
  },
  {
   "cell_type": "code",
   "execution_count": 10,
   "metadata": {},
   "outputs": [
    {
     "data": {
      "text/plain": [
       "{'id': 8, 'name': 'django2', 'slug': 'django2'}"
      ]
     },
     "execution_count": 10,
     "metadata": {},
     "output_type": "execute_result"
    }
   ],
   "source": [
    "s_tag.data"
   ]
  },
  {
   "cell_type": "code",
   "execution_count": 11,
   "metadata": {},
   "outputs": [
    {
     "data": {
      "text/plain": [
       "b'{\"id\":8,\"name\":\"django2\",\"slug\":\"django2\"}'"
      ]
     },
     "execution_count": 11,
     "metadata": {},
     "output_type": "execute_result"
    }
   ],
   "source": [
    "JSONRenderer().render(s_tag.data)"
   ]
  },
  {
   "cell_type": "code",
   "execution_count": 12,
   "metadata": {},
   "outputs": [],
   "source": [
    "def render_json(serialized_object):\n",
    "    \"\"\"Shortcut to make this notebook easier to read\"\"\"\n",
    "    print(\n",
    "        JSONRenderer().render(\n",
    "            serialized_object.data,\n",
    "            accepted_media_type='application/json; indent=4',\n",
    "        ).decode('utf8')\n",
    "    )"
   ]
  },
  {
   "cell_type": "code",
   "execution_count": 13,
   "metadata": {},
   "outputs": [
    {
     "name": "stdout",
     "output_type": "stream",
     "text": [
      "{\n",
      "    \"id\": 8,\n",
      "    \"name\": \"django2\",\n",
      "    \"slug\": \"django2\"\n",
      "}\n"
     ]
    }
   ],
   "source": [
    "render_json(s_tag)"
   ]
  },
  {
   "cell_type": "code",
   "execution_count": 14,
   "metadata": {},
   "outputs": [
    {
     "data": {
      "text/plain": [
       "'<?xml version=\"1.0\" encoding=\"utf-8\"?>\\n<root><id>8</id><name>django2</name><slug>django2</slug></root>'"
      ]
     },
     "execution_count": 14,
     "metadata": {},
     "output_type": "execute_result"
    }
   ],
   "source": [
    "XMLRenderer().render(s_tag.data)"
   ]
  },
  {
   "cell_type": "code",
   "execution_count": 15,
   "metadata": {},
   "outputs": [],
   "source": [
    "def render_xml(serialized_object):\n",
    "    \"\"\"Shortcut to make this notebook easier to read\n",
    "    \n",
    "    If you need serious XML handling, compare \n",
    "    LXML to Python's std-lib XML capabilities.\n",
    "    \"\"\"\n",
    "    print(\n",
    "        xml_parse(  # python std-lib\n",
    "            XMLRenderer().render( # Django Rest Framework\n",
    "                serialized_object.data\n",
    "            )  \n",
    "        ).toprettyxml()\n",
    "    )"
   ]
  },
  {
   "cell_type": "code",
   "execution_count": 16,
   "metadata": {},
   "outputs": [
    {
     "name": "stdout",
     "output_type": "stream",
     "text": [
      "<?xml version=\"1.0\" ?>\n",
      "<root>\n",
      "\t<id>8</id>\n",
      "\t<name>django2</name>\n",
      "\t<slug>django2</slug>\n",
      "</root>\n",
      "\n"
     ]
    }
   ],
   "source": [
    "render_xml(s_tag)"
   ]
  },
  {
   "cell_type": "markdown",
   "metadata": {},
   "source": [
    "Serialize Object with Relationships"
   ]
  },
  {
   "cell_type": "code",
   "execution_count": 18,
   "metadata": {},
   "outputs": [],
   "source": [
    "jambon = Startup.objects.create(\n",
    "    name='JamBon Software1',\n",
    "    slug='jambon-software1',\n",
    "    description='Software Consulting & Training for Web and Mobile Products',\n",
    "    founded_date=date(2013, 1, 18),\n",
    "    contact='django@jambonsw.com',\n",
    "    website='https://www.jambonsw.com',\n",
    ")"
   ]
  },
  {
   "cell_type": "code",
   "execution_count": 20,
   "metadata": {},
   "outputs": [],
   "source": [
    "jambon.tags.add(new_tag, Tag.objects.create(name='web2'))"
   ]
  },
  {
   "cell_type": "code",
   "execution_count": 21,
   "metadata": {},
   "outputs": [],
   "source": [
    "s_jambon = StartupSerializer(jambon)"
   ]
  },
  {
   "cell_type": "code",
   "execution_count": 22,
   "metadata": {},
   "outputs": [
    {
     "data": {
      "text/plain": [
       "StartupSerializer(<Startup: JamBon Software1>):\n",
       "    id = IntegerField(read_only=True)\n",
       "    name = CharField(max_length=31)\n",
       "    slug = SlugField(max_length=31)\n",
       "    description = CharField()\n",
       "    founded_date = DateField()\n",
       "    contact = EmailField()\n",
       "    website = URLField(max_length=255)\n",
       "    tags = TagSerializer(many=True):\n",
       "        id = IntegerField(read_only=True)\n",
       "        name = CharField(max_length=31)\n",
       "        slug = SlugField(allow_blank=True, max_length=31)"
      ]
     },
     "execution_count": 22,
     "metadata": {},
     "output_type": "execute_result"
    }
   ],
   "source": [
    "s_jambon"
   ]
  },
  {
   "cell_type": "code",
   "execution_count": 23,
   "metadata": {},
   "outputs": [
    {
     "data": {
      "text/plain": [
       "{'id': 3, 'name': 'JamBon Software1', 'slug': 'jambon-software1', 'description': 'Software Consulting & Training for Web and Mobile Products', 'founded_date': '2013-01-18', 'contact': 'django@jambonsw.com', 'website': 'https://www.jambonsw.com', 'tags': [OrderedDict([('id', 8), ('name', 'django2'), ('slug', 'django2')]), OrderedDict([('id', 10), ('name', 'web2'), ('slug', 'web2')])]}"
      ]
     },
     "execution_count": 23,
     "metadata": {},
     "output_type": "execute_result"
    }
   ],
   "source": [
    "s_jambon.data"
   ]
  },
  {
   "cell_type": "code",
   "execution_count": 24,
   "metadata": {},
   "outputs": [
    {
     "name": "stdout",
     "output_type": "stream",
     "text": [
      "{'contact': 'django@jambonsw.com',\n",
      " 'description': 'Software Consulting & Training for Web and Mobile Products',\n",
      " 'founded_date': '2013-01-18',\n",
      " 'id': 3,\n",
      " 'name': 'JamBon Software1',\n",
      " 'slug': 'jambon-software1',\n",
      " 'tags': [OrderedDict([('id', 8), ('name', 'django2'), ('slug', 'django2')]),\n",
      "          OrderedDict([('id', 10), ('name', 'web2'), ('slug', 'web2')])],\n",
      " 'website': 'https://www.jambonsw.com'}\n"
     ]
    }
   ],
   "source": [
    "pprint(s_jambon.data)"
   ]
  },
  {
   "cell_type": "code",
   "execution_count": 25,
   "metadata": {},
   "outputs": [
    {
     "name": "stdout",
     "output_type": "stream",
     "text": [
      "{\n",
      "    \"id\": 3,\n",
      "    \"name\": \"JamBon Software1\",\n",
      "    \"slug\": \"jambon-software1\",\n",
      "    \"description\": \"Software Consulting & Training for Web and Mobile Products\",\n",
      "    \"founded_date\": \"2013-01-18\",\n",
      "    \"contact\": \"django@jambonsw.com\",\n",
      "    \"website\": \"https://www.jambonsw.com\",\n",
      "    \"tags\": [\n",
      "        {\n",
      "            \"id\": 8,\n",
      "            \"name\": \"django2\",\n",
      "            \"slug\": \"django2\"\n",
      "        },\n",
      "        {\n",
      "            \"id\": 10,\n",
      "            \"name\": \"web2\",\n",
      "            \"slug\": \"web2\"\n",
      "        }\n",
      "    ]\n",
      "}\n"
     ]
    }
   ],
   "source": [
    "render_json(s_jambon)"
   ]
  },
  {
   "cell_type": "code",
   "execution_count": 26,
   "metadata": {},
   "outputs": [
    {
     "name": "stdout",
     "output_type": "stream",
     "text": [
      "<?xml version=\"1.0\" ?>\n",
      "<root>\n",
      "\t<id>3</id>\n",
      "\t<name>JamBon Software1</name>\n",
      "\t<slug>jambon-software1</slug>\n",
      "\t<description>Software Consulting &amp; Training for Web and Mobile Products</description>\n",
      "\t<founded_date>2013-01-18</founded_date>\n",
      "\t<contact>django@jambonsw.com</contact>\n",
      "\t<website>https://www.jambonsw.com</website>\n",
      "\t<tags>\n",
      "\t\t<list-item>\n",
      "\t\t\t<id>8</id>\n",
      "\t\t\t<name>django2</name>\n",
      "\t\t\t<slug>django2</slug>\n",
      "\t\t</list-item>\n",
      "\t\t<list-item>\n",
      "\t\t\t<id>10</id>\n",
      "\t\t\t<name>web2</name>\n",
      "\t\t\t<slug>web2</slug>\n",
      "\t\t</list-item>\n",
      "\t</tags>\n",
      "</root>\n",
      "\n"
     ]
    }
   ],
   "source": [
    "render_xml(s_jambon)"
   ]
  },
  {
   "cell_type": "code",
   "execution_count": 27,
   "metadata": {},
   "outputs": [],
   "source": [
    "nl = NewsLink.objects.create(\n",
    "    title='JamBon Software rated best ever',\n",
    "    slug='jambon-best',\n",
    "    pub_date=date(2018,4,1),\n",
    "    link='https://www.xkcd.com/353/',\n",
    "    startup=jambon,\n",
    ")"
   ]
  },
  {
   "cell_type": "code",
   "execution_count": 28,
   "metadata": {},
   "outputs": [],
   "source": [
    "s_nl = NewsLinkSerializer(nl)"
   ]
  },
  {
   "cell_type": "code",
   "execution_count": 29,
   "metadata": {},
   "outputs": [
    {
     "data": {
      "text/plain": [
       "NewsLinkSerializer(<NewsLink: JamBon Software1:JamBon Software rated best ever>):\n",
       "    id = IntegerField(read_only=True)\n",
       "    title = CharField(max_length=63)\n",
       "    slug = SlugField(max_length=63)\n",
       "    pub_date = DateField()\n",
       "    link = URLField(max_length=255)\n",
       "    startup = StartupSerializer():\n",
       "        id = IntegerField(read_only=True)\n",
       "        name = CharField(max_length=31)\n",
       "        slug = SlugField(max_length=31)\n",
       "        description = CharField()\n",
       "        founded_date = DateField()\n",
       "        contact = EmailField()\n",
       "        website = URLField(max_length=255)\n",
       "        tags = TagSerializer(many=True):\n",
       "            id = IntegerField(read_only=True)\n",
       "            name = CharField(max_length=31)\n",
       "            slug = SlugField(allow_blank=True, max_length=31)"
      ]
     },
     "execution_count": 29,
     "metadata": {},
     "output_type": "execute_result"
    }
   ],
   "source": [
    "s_nl"
   ]
  },
  {
   "cell_type": "code",
   "execution_count": 30,
   "metadata": {},
   "outputs": [
    {
     "name": "stdout",
     "output_type": "stream",
     "text": [
      "{'id': 3,\n",
      " 'link': 'https://www.xkcd.com/353/',\n",
      " 'pub_date': '2018-04-01',\n",
      " 'slug': 'jambon-best',\n",
      " 'startup': OrderedDict([('id', 3),\n",
      "                         ('name', 'JamBon Software1'),\n",
      "                         ('slug', 'jambon-software1'),\n",
      "                         ('description',\n",
      "                          'Software Consulting & Training for Web and Mobile '\n",
      "                          'Products'),\n",
      "                         ('founded_date', '2013-01-18'),\n",
      "                         ('contact', 'django@jambonsw.com'),\n",
      "                         ('website', 'https://www.jambonsw.com'),\n",
      "                         ('tags',\n",
      "                          [OrderedDict([('id', 8),\n",
      "                                        ('name', 'django2'),\n",
      "                                        ('slug', 'django2')]),\n",
      "                           OrderedDict([('id', 10),\n",
      "                                        ('name', 'web2'),\n",
      "                                        ('slug', 'web2')])])]),\n",
      " 'title': 'JamBon Software rated best ever'}\n"
     ]
    }
   ],
   "source": [
    "pprint(s_nl.data)"
   ]
  },
  {
   "cell_type": "code",
   "execution_count": null,
   "metadata": {},
   "outputs": [],
   "source": []
  }
 ],
 "metadata": {
  "kernelspec": {
   "display_name": "Python 3",
   "language": "python",
   "name": "python3"
  },
  "language_info": {
   "codemirror_mode": {
    "name": "ipython",
    "version": 3
   },
   "file_extension": ".py",
   "mimetype": "text/x-python",
   "name": "python",
   "nbconvert_exporter": "python",
   "pygments_lexer": "ipython3",
   "version": "3.7.1"
  }
 },
 "nbformat": 4,
 "nbformat_minor": 4
}
